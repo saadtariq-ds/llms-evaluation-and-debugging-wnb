{
 "cells": [
  {
   "cell_type": "code",
   "execution_count": 1,
   "id": "668d31fe-20c4-4413-8895-a7540e46e748",
   "metadata": {},
   "outputs": [],
   "source": [
    "import os\n",
    "import sys\n",
    "import random\n",
    "import time\n",
    "import datetime\n",
    "from openai import OpenAI\n",
    "from tenacity import retry, stop_after_attempt, wait_random_exponential # for exponential backoff \n",
    "import wandb\n",
    "from wandb.sdk.data_types.trace_tree import Trace\n",
    "from langchain.agents import AgentType, initialize_agent\n",
    "from langchain_openai import ChatOpenAI\n",
    "from langchain.tools import BaseTool\n",
    "from typing import Optional\n",
    "from langchain.callbacks.manager import (\n",
    "    AsyncCallbackManagerForToolRun,\n",
    "    CallbackManagerForToolRun,\n",
    ")"
   ]
  },
  {
   "cell_type": "code",
   "execution_count": 2,
   "id": "ca059572-78e7-4571-be13-f08b28b0b738",
   "metadata": {},
   "outputs": [],
   "source": [
    "openai_key = \"YOUR OPENAI API KEY HERE\""
   ]
  },
  {
   "cell_type": "code",
   "execution_count": 3,
   "id": "3cfc83ef-3808-4498-98e1-1317c000f692",
   "metadata": {},
   "outputs": [],
   "source": [
    "client = OpenAI(api_key=openai_key)"
   ]
  },
  {
   "cell_type": "code",
   "execution_count": 4,
   "id": "e0828f5d-6f53-47d7-8c29-0d8ab8a9ebe8",
   "metadata": {},
   "outputs": [],
   "source": [
    "PROJECT = \"llms_evaluation\"\n",
    "MODEL = \"gpt-3.5-turbo\"\n",
    "TEMPERATURE = 0.7"
   ]
  },
  {
   "cell_type": "code",
   "execution_count": 7,
   "id": "e34a74df-4e6a-4800-9e3f-19097fd2dd0d",
   "metadata": {},
   "outputs": [],
   "source": [
    "# wandb.login(anonymous=\"allow\")"
   ]
  },
  {
   "cell_type": "code",
   "execution_count": 8,
   "id": "17c0cbcb-7820-49fa-9acc-c7618f9b06da",
   "metadata": {},
   "outputs": [],
   "source": [
    "# run = wandb.init(project=PROJECT, job_type=\"generation\")"
   ]
  },
  {
   "cell_type": "markdown",
   "id": "25ffa7a0-5485-4047-881b-5454ab89a546",
   "metadata": {},
   "source": [
    "## Simple Generations and Saving Results in W&B Tables"
   ]
  },
  {
   "cell_type": "code",
   "execution_count": 9,
   "id": "a84a6725-8d11-4d06-8c65-3355b5cce6d6",
   "metadata": {},
   "outputs": [],
   "source": [
    "def generate_and_print(system_prompt, user_prompt, table, n=5):\n",
    "    messages=[\n",
    "            {\"role\": \"system\", \"content\": system_prompt},\n",
    "            {\"role\": \"user\", \"content\": user_prompt},\n",
    "        ]\n",
    "    start_time = time.time()\n",
    "    \n",
    "    responses = client.chat.completions.create(\n",
    "        model=MODEL,\n",
    "        messages=messages,\n",
    "        n = n,\n",
    "    )\n",
    "    \n",
    "    elapsed_time = time.time() - start_time\n",
    "    \n",
    "    for response in responses.choices:\n",
    "        generation = response.message.content\n",
    "        print(generation)\n",
    "        \n",
    "    table.add_data(\n",
    "        system_prompt,\n",
    "        user_prompt,\n",
    "        [response.message.content for response in responses.choices],\n",
    "        elapsed_time,\n",
    "        datetime.datetime.fromtimestamp(responses.created),\n",
    "        responses.model,\n",
    "        responses.usage.prompt_tokens,\n",
    "        responses.usage.completion_tokens,\n",
    "        responses.usage.total_tokens\n",
    "    )"
   ]
  },
  {
   "cell_type": "code",
   "execution_count": 10,
   "id": "535b5055-862e-4d45-a5f3-4a93b86c77c0",
   "metadata": {},
   "outputs": [],
   "source": [
    "system_prompt = \"\"\"You are a creative copywriter You're given a category of game asset, and your goal is to design a name of that asset. \\\n",
    "The game is set in a fantasy world where everyone laughs and respects each other, while celebrating diversity.\n",
    "\"\"\""
   ]
  },
  {
   "cell_type": "code",
   "execution_count": 11,
   "id": "6883eb26-fda0-49f5-bceb-45149693dc81",
   "metadata": {},
   "outputs": [],
   "source": [
    "columns = [\"system_prompt\", \"user_prompt\", \"generations\", \"elapsed_time\", \"timestamp\",\n",
    "           \"model\", \"prompt_tokens\", \"completion_tokens\", \"total_tokens\"]\n",
    "\n",
    "table = wandb.Table(columns=columns)"
   ]
  },
  {
   "cell_type": "code",
   "execution_count": 12,
   "id": "94093842-ddce-44a1-adf1-1ea347ef88b6",
   "metadata": {},
   "outputs": [
    {
     "name": "stdout",
     "output_type": "stream",
     "text": [
      "Harmony's Chosen: Legends of Unity\n",
      "Unity Guardian\n",
      "Unity Champion: The Laughing Guardian\n",
      "Laughter of Unity: The Diverse Defender\n",
      "\"Champion of Unity: The Laughterbringer\"\n"
     ]
    }
   ],
   "source": [
    "user_prompt = \"hero\"\n",
    "generate_and_print(system_prompt, user_prompt, table)"
   ]
  },
  {
   "cell_type": "code",
   "execution_count": 13,
   "id": "b25bc885-752b-461c-a062-d3df81cdf9f0",
   "metadata": {},
   "outputs": [
    {
     "name": "stdout",
     "output_type": "stream",
     "text": [
      "Harmony Gems\n",
      "Harmony Gemstones\n",
      "Harmony Fae Gems\n",
      "Laughing Gems of Harmony\n",
      "Harmony Gems\n"
     ]
    }
   ],
   "source": [
    "user_prompt = \"jewel\"\n",
    "generate_and_print(system_prompt, user_prompt, table)"
   ]
  },
  {
   "cell_type": "code",
   "execution_count": 15,
   "id": "13312ae7-fae2-4a23-99cb-2537d3d6e230",
   "metadata": {},
   "outputs": [],
   "source": [
    "# wandb.log({\"simple_generations\": table})\n",
    "# run.finish()"
   ]
  },
  {
   "cell_type": "markdown",
   "id": "49c7479e-bdf6-47f4-a349-d8327c5232b8",
   "metadata": {},
   "source": [
    "## Using Tracers to log more complex chains\n",
    "\n",
    "Let's design an LLM chain that will first randomly pick a fantasy world, and then generate character names"
   ]
  },
  {
   "cell_type": "code",
   "execution_count": 16,
   "id": "68045476-a23e-4453-aa8a-382776abfd11",
   "metadata": {},
   "outputs": [],
   "source": [
    "worlds = [\n",
    "    \"a mystic medieval island inhabited by intelligent and funny frogs\",\n",
    "    \"a modern castle sitting on top of a volcano in a faraway galaxy\",\n",
    "    \"a digital world inhabited by friendly machine learning engineers\"\n",
    "]"
   ]
  },
  {
   "cell_type": "code",
   "execution_count": 17,
   "id": "79759780-6ad5-407b-ac47-4716053bf100",
   "metadata": {},
   "outputs": [],
   "source": [
    "system_message = \"\"\"You are a creative copywriter. You're given a category of game asset and a fantasy world. \\\n",
    "Your goal is to design a name of that asset. Provide the resulting name only, no additional description. \\\n",
    "Single name, max 3 words output, remember!\"\"\""
   ]
  },
  {
   "cell_type": "code",
   "execution_count": 19,
   "id": "d1920a54-8f2a-4744-8dd1-205a7227170b",
   "metadata": {},
   "outputs": [],
   "source": [
    "# wandb.init(project=PROJECT, job_type=\"generation\")"
   ]
  },
  {
   "cell_type": "code",
   "execution_count": 20,
   "id": "ae9d6202-82ad-4bbe-a424-6e662e33d8be",
   "metadata": {},
   "outputs": [],
   "source": [
    "def run_creative_chain(query):\n",
    "    start_time_ms = round(datetime.datetime.now().timestamp() * 1000)\n",
    "\n",
    "    root_span = Trace(\n",
    "          name=\"FantasyChain\",\n",
    "          kind=\"chain\",\n",
    "          start_time_ms=start_time_ms,\n",
    "          metadata={\"user\": \"student_1\"},\n",
    "          model_dict={\"_kind\": \"CreativeChain\"}\n",
    "          )\n",
    "\n",
    "    time.sleep(3)\n",
    "    world = random.choice(worlds)\n",
    "    expanded_prompt = f'Game asset category: {query}; fantasy world description: {world}'\n",
    "    tool_end_time_ms = round(datetime.datetime.now().timestamp() * 1000)\n",
    "\n",
    "    tool_span = Trace(\n",
    "          name=\"WorldPicker\",\n",
    "          kind=\"tool\",\n",
    "          status_code=\"success\",\n",
    "          start_time_ms=start_time_ms,\n",
    "          end_time_ms=tool_end_time_ms,\n",
    "          inputs={\"input\": query},\n",
    "          outputs={\"result\": expanded_prompt},\n",
    "          model_dict={\"_kind\": \"tool\", \"num_worlds\": len(worlds)}\n",
    "          )\n",
    "\n",
    "    root_span.add_child(tool_span)\n",
    "\n",
    "    messages=[\n",
    "      {\"role\": \"system\", \"content\": system_message},\n",
    "      {\"role\": \"user\", \"content\": expanded_prompt}\n",
    "    ]\n",
    "\n",
    "    responses = client.chat.completions.create(\n",
    "        model=MODEL,\n",
    "        messages=messages,\n",
    "        temperature=TEMPERATURE,\n",
    "        max_tokens=12\n",
    "    )\n",
    "\n",
    "    llm_end_time_ms = round(datetime.datetime.now().timestamp() * 1000)\n",
    "    for response in responses.choices:\n",
    "        response_text = response.message.content\n",
    "\n",
    "    token_usage = responses.usage.total_tokens\n",
    "\n",
    "    llm_span = Trace(\n",
    "          name=\"OpenAI\",\n",
    "          kind=\"llm\",\n",
    "          status_code=\"success\",\n",
    "          metadata={\"temperature\":TEMPERATURE,\n",
    "                    \"token_usage\": token_usage, \n",
    "                    \"model_name\":MODEL},\n",
    "          start_time_ms=tool_end_time_ms,\n",
    "          end_time_ms=llm_end_time_ms,\n",
    "          inputs={\"system_prompt\":system_message, \"query\":expanded_prompt},\n",
    "          outputs={\"response\": response_text},\n",
    "          model_dict={\"_kind\": \"Openai\", \"engine\": responses.model, \"model\": responses.object}\n",
    "          )\n",
    "\n",
    "    root_span.add_child(llm_span)\n",
    "\n",
    "    root_span.add_inputs_and_outputs(\n",
    "          inputs={\"query\":query},\n",
    "          outputs={\"response\": response_text})\n",
    "\n",
    "    root_span.end_time_ms = llm_end_time_ms\n",
    "\n",
    "    root_span.log(name=\"creative_trace\")\n",
    "    print(f\"Result: {response_text}\")"
   ]
  },
  {
   "cell_type": "code",
   "execution_count": 21,
   "id": "c17307ba-e8e4-451c-a3bf-3afaa21090e5",
   "metadata": {},
   "outputs": [
    {
     "name": "stdout",
     "output_type": "stream",
     "text": [
      "Result: Nova Knightbane\n"
     ]
    }
   ],
   "source": [
    "run_creative_chain(\"hero\")"
   ]
  },
  {
   "cell_type": "code",
   "execution_count": 22,
   "id": "f5a1ad97-77e7-4f60-aa18-3fff5e36bcad",
   "metadata": {},
   "outputs": [
    {
     "name": "stdout",
     "output_type": "stream",
     "text": [
      "Result: Volcano Sparklegem\n"
     ]
    }
   ],
   "source": [
    "run_creative_chain(\"jewel\")"
   ]
  },
  {
   "cell_type": "code",
   "execution_count": 24,
   "id": "df6a7f29-e5af-4994-8c38-c5a9401fe05c",
   "metadata": {},
   "outputs": [],
   "source": [
    "# wandb.finish()"
   ]
  },
  {
   "cell_type": "markdown",
   "id": "9765a88c-17cf-474e-81f7-0535d8433678",
   "metadata": {},
   "source": [
    "## Tracking Langchain Agents"
   ]
  },
  {
   "cell_type": "code",
   "execution_count": 25,
   "id": "412ec80d-b32b-4754-b986-c35c4948e8d3",
   "metadata": {},
   "outputs": [],
   "source": [
    "llm = ChatOpenAI(api_key=openai_key)"
   ]
  },
  {
   "cell_type": "code",
   "execution_count": 28,
   "id": "11ef3e9f-d749-4ef6-a518-4ebc370eedf7",
   "metadata": {},
   "outputs": [],
   "source": [
    "# wandb.init(project=PROJECT, job_type=\"generation\")"
   ]
  },
  {
   "cell_type": "code",
   "execution_count": 29,
   "id": "72c7b099-8d3d-4ecf-a3e0-c3cc2c1106b0",
   "metadata": {},
   "outputs": [],
   "source": [
    "os.environ[\"LANGCHAIN_WANDB_TRACING\"] = \"true\""
   ]
  },
  {
   "cell_type": "code",
   "execution_count": 30,
   "id": "d9c0eee9-9c58-4f6c-b1cf-bf09bb575fa8",
   "metadata": {},
   "outputs": [],
   "source": [
    "class WorldPickerTool(BaseTool):\n",
    "    name = \"pick_world\"\n",
    "    description = \"pick a virtual game world for your character or item naming\"\n",
    "    worlds = [\n",
    "        \"a mystic medieval island inhabited by intelligent and funny frogs\",\n",
    "        \"a modern anthill featuring a cyber-ant queen and her cyber-ant-workers\",\n",
    "        \"a digital world inhabited by friendly machine learning engineers\"\n",
    "    ]\n",
    "\n",
    "    def _run(\n",
    "        self, query: str, run_manager: Optional[CallbackManagerForToolRun] = None\n",
    "    ) -> str:\n",
    "        \"\"\"Use the tool.\"\"\"\n",
    "        time.sleep(1)\n",
    "        return random.choice(self.worlds)\n",
    "\n",
    "    async def _arun(\n",
    "        self, query: str, run_manager: Optional[AsyncCallbackManagerForToolRun] = None\n",
    "    ) -> str:\n",
    "        \"\"\"Use the tool asynchronously.\"\"\"\n",
    "        raise NotImplementedError(\"pick_world does not support async\")"
   ]
  },
  {
   "cell_type": "code",
   "execution_count": 31,
   "id": "e3d62def-94e9-417f-b667-8e98d25f5497",
   "metadata": {},
   "outputs": [],
   "source": [
    "class NameValidatorTool(BaseTool):\n",
    "    name = \"validate_name\"\n",
    "    description = \"validate if the name is properly generated\"\n",
    "\n",
    "    def _run(\n",
    "        self, query: str, run_manager: Optional[CallbackManagerForToolRun] = None\n",
    "    ) -> str:\n",
    "        \"\"\"Use the tool.\"\"\"\n",
    "        time.sleep(1)\n",
    "        if len(query) < 20:\n",
    "            return f\"This is a correct name: {query}\"\n",
    "        else:\n",
    "            return f\"This name is too long. It should be shorter than 20 characters.\"\n",
    "\n",
    "    async def _arun(\n",
    "        self, query: str, run_manager: Optional[AsyncCallbackManagerForToolRun] = None\n",
    "    ) -> str:\n",
    "        \"\"\"Use the tool asynchronously.\"\"\"\n",
    "        raise NotImplementedError(\"validate_name does not support async\")"
   ]
  },
  {
   "cell_type": "code",
   "execution_count": 32,
   "id": "9703d61b-b29e-4c6b-9028-11e5e9960db4",
   "metadata": {},
   "outputs": [
    {
     "name": "stderr",
     "output_type": "stream",
     "text": [
      "C:\\Users\\tariq\\anaconda3\\envs\\llms_env\\lib\\site-packages\\langchain_core\\_api\\deprecation.py:117: LangChainDeprecationWarning: The function `initialize_agent` was deprecated in LangChain 0.1.0 and will be removed in 0.2.0. Use Use new agent constructor methods like create_react_agent, create_json_agent, create_structured_chat_agent, etc. instead.\n",
      "  warn_deprecated(\n"
     ]
    }
   ],
   "source": [
    "tools = [WorldPickerTool(), NameValidatorTool()]\n",
    "\n",
    "agent = initialize_agent(\n",
    "    tools, \n",
    "    llm, \n",
    "    agent=AgentType.ZERO_SHOT_REACT_DESCRIPTION,\n",
    "    handle_parsing_errors=True,\n",
    "    verbose=True\n",
    ")"
   ]
  },
  {
   "cell_type": "code",
   "execution_count": 33,
   "id": "6636f459-7870-4c2a-9342-2515509d08d5",
   "metadata": {},
   "outputs": [
    {
     "name": "stderr",
     "output_type": "stream",
     "text": [
      "C:\\Users\\tariq\\anaconda3\\envs\\llms_env\\lib\\site-packages\\langchain_core\\_api\\deprecation.py:117: LangChainDeprecationWarning: The function `run` was deprecated in LangChain 0.1.0 and will be removed in 0.2.0. Use invoke instead.\n",
      "  warn_deprecated(\n"
     ]
    },
    {
     "name": "stdout",
     "output_type": "stream",
     "text": [
      "\n",
      "\n",
      "\u001b[1m> Entering new AgentExecutor chain...\u001b[0m\n",
      "\u001b[32;1m\u001b[1;3mI need to pick a virtual game world and come up with a hero name that fits that world.\n",
      "Action: pick_world\n",
      "Action Input: fantasy\u001b[0m\n",
      "Observation: \u001b[36;1m\u001b[1;3ma modern anthill featuring a cyber-ant queen and her cyber-ant-workers\u001b[0m\n",
      "Thought:\u001b[32;1m\u001b[1;3mThis world sounds like it blends fantasy and technology. I should come up with a hero name that reflects that.\n",
      "Action: validate_name\n",
      "Action Input: Cyberia\u001b[0m\n",
      "Observation: \u001b[33;1m\u001b[1;3mThis is a correct name: Cyberia\u001b[0m\n",
      "Thought:\u001b[32;1m\u001b[1;3mCyberia is a suitable hero name for the virtual game world I picked.\n",
      "Final Answer: Cyberia\u001b[0m\n",
      "\n",
      "\u001b[1m> Finished chain.\u001b[0m\n"
     ]
    },
    {
     "data": {
      "text/plain": [
       "'Cyberia'"
      ]
     },
     "execution_count": 33,
     "metadata": {},
     "output_type": "execute_result"
    }
   ],
   "source": [
    "agent.run(\n",
    "    \"Find a virtual game world for me and imagine the name of a hero in that world\"\n",
    ")"
   ]
  },
  {
   "cell_type": "code",
   "execution_count": 34,
   "id": "627c2c71-455d-4c91-b304-29b65d9ee131",
   "metadata": {},
   "outputs": [
    {
     "name": "stdout",
     "output_type": "stream",
     "text": [
      "\n",
      "\n",
      "\u001b[1m> Entering new AgentExecutor chain...\u001b[0m\n",
      "\u001b[32;1m\u001b[1;3mI need to pick a virtual game world and come up with a name for a jewel in that world.\n",
      "Action: pick_world\n",
      "Action Input: None\u001b[0m\n",
      "Observation: \u001b[36;1m\u001b[1;3ma digital world inhabited by friendly machine learning engineers\u001b[0m\n",
      "Thought:\u001b[32;1m\u001b[1;3mI need to come up with a name for a jewel in this virtual game world.\n",
      "Action: validate_name\n",
      "Action Input: Sparkling Data Gem\u001b[0m\n",
      "Observation: \u001b[33;1m\u001b[1;3mThis is a correct name: Sparkling Data Gem\u001b[0m\n",
      "Thought:\u001b[32;1m\u001b[1;3mI now know the final answer\n",
      "Final Answer: Sparkling Data Gem in the digital world inhabited by friendly machine learning engineers\u001b[0m\n",
      "\n",
      "\u001b[1m> Finished chain.\u001b[0m\n"
     ]
    },
    {
     "data": {
      "text/plain": [
       "'Sparkling Data Gem in the digital world inhabited by friendly machine learning engineers'"
      ]
     },
     "execution_count": 34,
     "metadata": {},
     "output_type": "execute_result"
    }
   ],
   "source": [
    "agent.run(\n",
    "    \"Find a virtual game world for me and imagine the name of a jewel in that world\"\n",
    ")"
   ]
  },
  {
   "cell_type": "code",
   "execution_count": 35,
   "id": "b624624c-8bb6-4d71-b4ab-725dfa5052b5",
   "metadata": {},
   "outputs": [
    {
     "name": "stdout",
     "output_type": "stream",
     "text": [
      "\n",
      "\n",
      "\u001b[1m> Entering new AgentExecutor chain...\u001b[0m\n",
      "\u001b[32;1m\u001b[1;3mI need to pick a virtual game world and come up with a creative food name in that world.\n",
      "Action: pick_world\n",
      "Action Input: \u001b[0m\n",
      "Observation: \u001b[36;1m\u001b[1;3ma digital world inhabited by friendly machine learning engineers\u001b[0m\n",
      "Thought:\u001b[32;1m\u001b[1;3mI should come up with a name for a food item in this virtual game world.\n",
      "Action: validate_name\n",
      "Action Input: CrunchyByte\u001b[0m\n",
      "Observation: \u001b[33;1m\u001b[1;3mThis is a correct name: CrunchyByte\u001b[0m\n",
      "Thought:\u001b[32;1m\u001b[1;3mI have successfully generated a creative food name in the virtual game world.\n",
      "Final Answer: CrunchyByte in the digital world inhabited by friendly machine learning engineers.\u001b[0m\n",
      "\n",
      "\u001b[1m> Finished chain.\u001b[0m\n"
     ]
    },
    {
     "data": {
      "text/plain": [
       "'CrunchyByte in the digital world inhabited by friendly machine learning engineers.'"
      ]
     },
     "execution_count": 35,
     "metadata": {},
     "output_type": "execute_result"
    }
   ],
   "source": [
    "agent.run(\n",
    "    \"Find a virtual game world for me and imagine the name of food in that world.\"\n",
    ")"
   ]
  },
  {
   "cell_type": "code",
   "execution_count": 37,
   "id": "12543dca-9627-40e5-bf1d-bcd84293680c",
   "metadata": {},
   "outputs": [],
   "source": [
    "# wandb.finish()"
   ]
  },
  {
   "cell_type": "code",
   "execution_count": null,
   "id": "5e23bb54-dc8b-4e90-849b-1146be0996fc",
   "metadata": {},
   "outputs": [],
   "source": []
  }
 ],
 "metadata": {
  "kernelspec": {
   "display_name": "Python 3 (ipykernel)",
   "language": "python",
   "name": "python3"
  },
  "language_info": {
   "codemirror_mode": {
    "name": "ipython",
    "version": 3
   },
   "file_extension": ".py",
   "mimetype": "text/x-python",
   "name": "python",
   "nbconvert_exporter": "python",
   "pygments_lexer": "ipython3",
   "version": "3.9.18"
  }
 },
 "nbformat": 4,
 "nbformat_minor": 5
}
